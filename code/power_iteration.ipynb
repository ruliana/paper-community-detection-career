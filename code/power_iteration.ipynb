{
 "cells": [
  {
   "cell_type": "code",
   "execution_count": 101,
   "metadata": {},
   "outputs": [],
   "source": [
    "import numpy as np\n",
    "\n",
    "def power_iteration(stochastic_matrix):\n",
    "    n_nodes = np.shape(stochastic_matrix)[0]\n",
    "    probs_current = np.full(n_nodes, 1 / n_nodes)\n",
    "    \n",
    "    for _ in range(100000):\n",
    "        probs_next = np.dot(stochastic_matrix, probs_current)\n",
    "        if (np.linalg.norm(probs_next - probs_current) < 0.00000000001):\n",
    "            break\n",
    "        probs_current = probs_next\n",
    "        \n",
    "    return probs_next"
   ]
  },
  {
   "cell_type": "code",
   "execution_count": 102,
   "metadata": {},
   "outputs": [
    {
     "data": {
      "text/plain": [
       "array([ 0.4,  0.4,  0.2])"
      ]
     },
     "execution_count": 102,
     "metadata": {},
     "output_type": "execute_result"
    }
   ],
   "source": [
    "power_iteration(np.array([[0.5, 0.5, 0.0],\n",
    "                          [0.5, 0.0, 1.0],\n",
    "                          [0.0, 0.5, 0.0]]))"
   ]
  }
 ],
 "metadata": {
  "kernelspec": {
   "display_name": "Python 3",
   "language": "python",
   "name": "python3"
  },
  "language_info": {
   "codemirror_mode": {
    "name": "ipython",
    "version": 3
   },
   "file_extension": ".py",
   "mimetype": "text/x-python",
   "name": "python",
   "nbconvert_exporter": "python",
   "pygments_lexer": "ipython3",
   "version": "3.6.2"
  }
 },
 "nbformat": 4,
 "nbformat_minor": 2
}
